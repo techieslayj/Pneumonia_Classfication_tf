{
 "cells": [
  {
   "cell_type": "code",
   "execution_count": 100,
   "metadata": {},
   "outputs": [
    {
     "name": "stdout",
     "output_type": "stream",
     "text": [
      "Successfully loaded libraries\n"
     ]
    }
   ],
   "source": [
    "#Import libraries\n",
    "import numpy as np\n",
    "import pandas as pd\n",
    "import cv2\n",
    "import os\n",
    "from random import shuffle\n",
    "from tqdm import tqdm\n",
    "import scipy\n",
    "import skimage\n",
    "from skimage.transform import resize\n",
    "import tensorflow as tf\n",
    "from tensorflow.keras.models import Sequential\n",
    "from tensorflow.keras.layers import Dense, Conv2D, Flatten, Dropout, MaxPooling2D\n",
    "from tensorflow.keras.losses import BinaryCrossentropy\n",
    "from tensorflow.keras.optimizers import Adam, RMSprop\n",
    "from tensorflow.keras.preprocessing.image import ImageDataGenerator\n",
    "from tensorflow.keras.preprocessing import image\n",
    "import matplotlib.pyplot as plt\n",
    "print('Successfully loaded libraries')"
   ]
  },
  {
   "cell_type": "markdown",
   "metadata": {},
   "source": [
    "<h3> Load in and Preprocess Image data </h3>"
   ]
  },
  {
   "cell_type": "code",
   "execution_count": 4,
   "metadata": {},
   "outputs": [
    {
     "name": "stdout",
     "output_type": "stream",
     "text": [
      "['.DS_Store', 'test', 'train', 'val']\n"
     ]
    }
   ],
   "source": [
    "print(os.listdir('chest_xray/chest_xray'))"
   ]
  },
  {
   "cell_type": "code",
   "execution_count": 5,
   "metadata": {},
   "outputs": [
    {
     "name": "stdout",
     "output_type": "stream",
     "text": [
      "['.DS_Store', 'PNEUMONIA', 'NORMAL']\n"
     ]
    }
   ],
   "source": [
    "print(os.listdir('chest_xray/chest_xray/train/'))"
   ]
  },
  {
   "cell_type": "code",
   "execution_count": 6,
   "metadata": {},
   "outputs": [],
   "source": [
    "#Create our train and test directories\n",
    "train_dir = 'chest_xray/chest_xray/train/'\n",
    "test_dir = 'chest_xray/chest_xray/test/'"
   ]
  },
  {
   "cell_type": "markdown",
   "metadata": {},
   "source": [
    "Need to get the labels for the x-ray images"
   ]
  },
  {
   "cell_type": "code",
   "execution_count": 22,
   "metadata": {},
   "outputs": [],
   "source": [
    "def preprocess_images(direc):\n",
    "    #Store pictures into X and Y arrays that will later be broke into training and testing sets\n",
    "    X = []\n",
    "    y = []\n",
    "    \n",
    "    for next_d in os.listdir(direc):\n",
    "        if not next_d.startswith('.'):\n",
    "            if next_d in ['NORMAL']:\n",
    "                label = 0\n",
    "            elif next_d in ['PNEUMONIA']:\n",
    "                label = 1\n",
    "            else:\n",
    "                label = 2\n",
    "    \n",
    "            temp = direc + next_d\n",
    "        \n",
    "            for img_file in tqdm(os.listdir(temp)):\n",
    "                img = cv2.imread(temp + '/' + img_file)\n",
    "                #If image exists resize it and append it to the X and Y array\n",
    "                if img is not None:\n",
    "                    img = skimage.transform.resize(img, (64,64,3)) #target size (64,64,3) for tensors and generators later on\n",
    "                    img = np.asarray(img)\n",
    "                    X.append(img)\n",
    "                    y.append(label)\n",
    "                \n",
    "    X = np.asarray(X)\n",
    "    y = np.asarray(y)\n",
    "    \n",
    "    return X,y"
   ]
  },
  {
   "cell_type": "code",
   "execution_count": 23,
   "metadata": {},
   "outputs": [
    {
     "name": "stderr",
     "output_type": "stream",
     "text": [
      "100%|██████████| 3876/3876 [16:09<00:00,  4.00it/s]\n",
      "100%|██████████| 1342/1342 [17:47<00:00,  1.26it/s]\n"
     ]
    }
   ],
   "source": [
    "#Load in data\n",
    "train_X, train_y = preprocess_images(train_dir)"
   ]
  },
  {
   "cell_type": "code",
   "execution_count": 24,
   "metadata": {},
   "outputs": [
    {
     "name": "stderr",
     "output_type": "stream",
     "text": [
      "100%|██████████| 390/390 [01:14<00:00,  5.26it/s]\n",
      "100%|██████████| 234/234 [03:39<00:00,  1.07it/s]\n"
     ]
    }
   ],
   "source": [
    "test_X, test_y = preprocess_images(test_dir)"
   ]
  },
  {
   "cell_type": "code",
   "execution_count": 130,
   "metadata": {},
   "outputs": [
    {
     "name": "stdout",
     "output_type": "stream",
     "text": [
      "(LEFT) Pneumonia Positive vs. (RIGHT) Normal\n",
      "--------------------------------------------------------------------------\n"
     ]
    },
    {
     "data": {
      "image/png": "[encoded data removed]",
      "text/plain": [
       "<Figure size 720x360 with 1 Axes>"
      ]
     },
     "metadata": {
      "needs_background": "light"
     },
     "output_type": "display_data"
    }
   ],
   "source": [
    "Pneu_imgs = os.listdir(train_dir + 'PNEUMONIA')\n",
    "Norm_imgs = os.listdir(train_dir + 'NORMAL')\n",
    "\n",
    "def img_plotter(i):\n",
    "    img_gen_pneu = cv2.imread(train_dir + 'PNEUMONIA/' + Pneu_imgs[i])\n",
    "    img_gen_pneu = skimage.transform.resize(img_gen_pneu, (64,64,3), mode = 'reflect')\n",
    "    img_gen_norm = cv2.imread(train_dir + 'NORMAL/' + Norm_imgs[i])\n",
    "    img_gen_norm = skimage.transform.resize(img_gen_norm, (64,64,3))\n",
    "    #Pair the images together\n",
    "    pairing = np.concatenate((img_gen_pneu, img_gen_norm), axis = 1)\n",
    "    \n",
    "    print('(LEFT) Pneumonia Positive vs. (RIGHT) Normal')\n",
    "    print('--------------------------------------------------------------------------')\n",
    "    plt.figure(figsize = (10,5))\n",
    "    plt.imshow(pairing)\n",
    "    plt.plot()\n",
    "\n",
    "for i in range(0,1):\n",
    "    img_plotter(i)"
   ]
  },
  {
   "cell_type": "code",
   "execution_count": 35,
   "metadata": {},
   "outputs": [
    {
     "name": "stderr",
     "output_type": "stream",
     "text": [
      "Using TensorFlow backend.\n"
     ]
    }
   ],
   "source": [
    "#Convert y train and test to categorical values\n",
    "from keras.utils.np_utils import to_categorical\n",
    "y_train = to_categorical(train_y, 2)\n",
    "y_test = to_categorical(test_y, 2)"
   ]
  },
  {
   "cell_type": "markdown",
   "metadata": {},
   "source": [
    "<h3> Will model accuracy be enough to tell us how well our model does in pneumonia prediction? </h3>"
   ]
  },
  {
   "cell_type": "code",
   "execution_count": 37,
   "metadata": {},
   "outputs": [
    {
     "data": {
      "text/plain": [
       "<matplotlib.axes._subplots.AxesSubplot at 0x1a550e9c88>"
      ]
     },
     "execution_count": 37,
     "metadata": {},
     "output_type": "execute_result"
    },
    {
     "data": {
      "image/png": "[encoded data removed]",
      "text/plain": [
       "<Figure size 432x288 with 1 Axes>"
      ]
     },
     "metadata": {
      "needs_background": "light"
     },
     "output_type": "display_data"
    }
   ],
   "source": [
    "import seaborn as sns\n",
    "count = y_train.sum(axis = 0)\n",
    "sns.countplot(x = count)"
   ]
  },
  {
   "cell_type": "markdown",
   "metadata": {},
   "source": [
    "<h3> Part below used IF model accuracy told us enough about pneumonia prediction, however we need to construct a confusion matrix to better assess model with precision and recall because of the imbalance in our dataset </h3>"
   ]
  },
  {
   "cell_type": "markdown",
   "metadata": {},
   "source": [
    "Precision - the ability of the classification model to identify only the relevant data points."
   ]
  },
  {
   "cell_type": "markdown",
   "metadata": {},
   "source": [
    "Recall - model’s ability to find all the data points of interest in a dataset. "
   ]
  },
  {
   "cell_type": "markdown",
   "metadata": {
    "jupyter": {
     "source_hidden": true
    }
   },
   "source": [
    "Using ImageDataGenerator which It can read images from disk and preprocess them into proper tensors. It will also set up generators that convert these images\n",
    "into batches of tensors = helpful when training the network."
   ]
  },
  {
   "cell_type": "code",
   "execution_count": 2,
   "metadata": {
    "jupyter": {
     "source_hidden": true
    }
   },
   "outputs": [],
   "source": [
    "#Get training and test data for X-ray images (note images come in different file types\n",
    "#training_set_datagen = ImageDataGenerator(rescale = 1./255, shear_range = 0.2, zoom_range = 0.2, width_shift_range = 0.2,\n",
    "#                                          height_shift_range = 0.2, horizontal_flip = True)\n",
    "#testing_set_datagen = ImageDataGenerator(rescale = 1./255)\n",
    "#Validation image data generator for after model is run\n",
    "#valid_set_datagen = ImageDataGenerator(rescale = 1./255)"
   ]
  },
  {
   "cell_type": "markdown",
   "metadata": {
    "jupyter": {
     "source_hidden": true
    }
   },
   "source": [
    "Used rescale above to make the values of images between 0 and 1 since our neural network prefers small input values"
   ]
  },
  {
   "cell_type": "code",
   "execution_count": 3,
   "metadata": {
    "collapsed": true,
    "jupyter": {
     "outputs_hidden": true,
     "source_hidden": true
    }
   },
   "outputs": [
    {
     "name": "stdout",
     "output_type": "stream",
     "text": [
      "Found 5216 images belonging to 2 classes.\n",
      "Found 624 images belonging to 2 classes.\n"
     ]
    }
   ],
   "source": [
    "#Create training and validation generators\n",
    "#batch_size = 32\n",
    "#training_gen = training_set_datagen.flow_from_directory('chest_xray/train', target_size = (64,64), batch_size = batch_size, class_mode = 'binary')\n",
    "#validation_gen = testing_set_datagen.flow_from_directory('chest_xray/test', target_size = (64,64), batch_size = batch_size, class_mode = 'binary')"
   ]
  },
  {
   "cell_type": "markdown",
   "metadata": {
    "jupyter": {
     "source_hidden": true
    }
   },
   "source": [
    "<h3> Visualize training images </h3>"
   ]
  },
  {
   "cell_type": "markdown",
   "metadata": {
    "jupyter": {
     "source_hidden": true
    }
   },
   "source": [
    "Get a batch of images"
   ]
  },
  {
   "cell_type": "code",
   "execution_count": 32,
   "metadata": {
    "jupyter": {
     "source_hidden": true
    }
   },
   "outputs": [],
   "source": [
    "#sample_training_images, _ = next(training_gen)"
   ]
  },
  {
   "cell_type": "markdown",
   "metadata": {
    "jupyter": {
     "source_hidden": true
    }
   },
   "source": [
    "Using Matplotlib we can nicely plot the images, for now we will leave labels out"
   ]
  },
  {
   "cell_type": "code",
   "execution_count": 33,
   "metadata": {
    "jupyter": {
     "source_hidden": true
    }
   },
   "outputs": [],
   "source": [
    "#def display_samples(images_arr):\n",
    " #   fig, axes = plt.subplots(1, 5, figsize = (10,10))\n",
    "  #  axes = axes.flatten()\n",
    "   # for img, ax in zip(images_arr, axes):\n",
    "   #     ax.imshow(img)\n",
    "   #     ax.axis('off')\n",
    "    #plt.tight_layout()\n",
    "    #plt.show()"
   ]
  },
  {
   "cell_type": "code",
   "execution_count": 34,
   "metadata": {
    "collapsed": true,
    "jupyter": {
     "outputs_hidden": true,
     "source_hidden": true
    }
   },
   "outputs": [
    {
     "data": {
      "image/png": "[encoded data removed]",
      "text/plain": [
       "<Figure size 720x720 with 5 Axes>"
      ]
     },
     "metadata": {
      "needs_background": "light"
     },
     "output_type": "display_data"
    }
   ],
   "source": [
    "#display_samples(sample_training_images[:5])"
   ]
  },
  {
   "cell_type": "markdown",
   "metadata": {},
   "source": [
    "<h3> Confirm shape(s) before plugging into our model </h3>"
   ]
  },
  {
   "cell_type": "code",
   "execution_count": 125,
   "metadata": {},
   "outputs": [
    {
     "name": "stdout",
     "output_type": "stream",
     "text": [
      "(5216, 64, 64, 3)\n"
     ]
    }
   ],
   "source": [
    "print(train_X.shape)"
   ]
  },
  {
   "cell_type": "code",
   "execution_count": 126,
   "metadata": {},
   "outputs": [
    {
     "name": "stdout",
     "output_type": "stream",
     "text": [
      "(624, 64, 64, 3)\n"
     ]
    }
   ],
   "source": [
    "print(test_X.shape)"
   ]
  },
  {
   "cell_type": "markdown",
   "metadata": {},
   "source": [
    "<h3> Build model </h3>"
   ]
  },
  {
   "cell_type": "code",
   "execution_count": 114,
   "metadata": {},
   "outputs": [],
   "source": [
    "#Building model with convolutional filters\n",
    "model = Sequential([Conv2D(16, (3,3), padding = 'same', activation = 'relu', input_shape = (64,64,3)),\n",
    "                   Conv2D(16, (3,3), padding = 'valid', activation = 'relu'),\n",
    "                   MaxPooling2D(pool_size = (2,2)),\n",
    "                   #Dropout(0.1),\n",
    "                   Conv2D(32, (3,3), padding = 'same', activation = 'relu'),\n",
    "                   Conv2D(32, (3,3), padding = 'valid', activation = 'relu'),\n",
    "                   MaxPooling2D(pool_size = (2,2)),\n",
    "                   Conv2D(64, (3,3), dilation_rate = (2,2), padding = 'same', activation = 'relu'),\n",
    "                   Conv2D(64, (3,3), dilation_rate = (2,2), padding  = 'valid', activation = 'relu'),\n",
    "                   Conv2D(128, (3,3), padding = 'valid', activation = 'relu'),\n",
    "                   MaxPooling2D(pool_size = (2,2)),\n",
    "                   Flatten(),\n",
    "                   Dense(128, activation = 'relu'),\n",
    "                   Dropout(0.3),\n",
    "                   Dense(2, activation = 'sigmoid')])\n",
    "\n",
    "#Dilation rate delivers a wider field of view at the same computational cost."
   ]
  },
  {
   "cell_type": "markdown",
   "metadata": {},
   "source": [
    "<h3> Compile model with optimizer and loss function </h3>"
   ]
  },
  {
   "cell_type": "code",
   "execution_count": 115,
   "metadata": {},
   "outputs": [],
   "source": [
    "model.compile(optimizer = RMSprop(lr = 0.00005),\n",
    "             loss = BinaryCrossentropy(),\n",
    "             metrics = ['accuracy'])"
   ]
  },
  {
   "cell_type": "markdown",
   "metadata": {},
   "source": [
    "<h3> Get a model summary </h3>"
   ]
  },
  {
   "cell_type": "code",
   "execution_count": 116,
   "metadata": {},
   "outputs": [
    {
     "name": "stdout",
     "output_type": "stream",
     "text": [
      "Model: \"sequential_12\"\n",
      "_________________________________________________________________\n",
      "Layer (type)                 Output Shape              Param #   \n",
      "=================================================================\n",
      "conv2d_59 (Conv2D)           (None, 64, 64, 16)        448       \n",
      "_________________________________________________________________\n",
      "conv2d_60 (Conv2D)           (None, 62, 62, 16)        2320      \n",
      "_________________________________________________________________\n",
      "max_pooling2d_36 (MaxPooling (None, 31, 31, 16)        0         \n",
      "_________________________________________________________________\n",
      "conv2d_61 (Conv2D)           (None, 31, 31, 32)        4640      \n",
      "_________________________________________________________________\n",
      "conv2d_62 (Conv2D)           (None, 29, 29, 32)        9248      \n",
      "_________________________________________________________________\n",
      "max_pooling2d_37 (MaxPooling (None, 14, 14, 32)        0         \n",
      "_________________________________________________________________\n",
      "conv2d_63 (Conv2D)           (None, 14, 14, 64)        18496     \n",
      "_________________________________________________________________\n",
      "conv2d_64 (Conv2D)           (None, 10, 10, 64)        36928     \n",
      "_________________________________________________________________\n",
      "conv2d_65 (Conv2D)           (None, 8, 8, 128)         73856     \n",
      "_________________________________________________________________\n",
      "max_pooling2d_38 (MaxPooling (None, 4, 4, 128)         0         \n",
      "_________________________________________________________________\n",
      "flatten_12 (Flatten)         (None, 2048)              0         \n",
      "_________________________________________________________________\n",
      "dense_24 (Dense)             (None, 128)               262272    \n",
      "_________________________________________________________________\n",
      "dropout_12 (Dropout)         (None, 128)               0         \n",
      "_________________________________________________________________\n",
      "dense_25 (Dense)             (None, 2)                 258       \n",
      "=================================================================\n",
      "Total params: 408,466\n",
      "Trainable params: 408,466\n",
      "Non-trainable params: 0\n",
      "_________________________________________________________________\n"
     ]
    }
   ],
   "source": [
    "model.summary()"
   ]
  },
  {
   "cell_type": "markdown",
   "metadata": {},
   "source": [
    "<h3> Train the model </h3>"
   ]
  },
  {
   "cell_type": "code",
   "execution_count": 117,
   "metadata": {},
   "outputs": [
    {
     "name": "stdout",
     "output_type": "stream",
     "text": [
      "Train on 5216 samples, validate on 624 samples\n",
      "Epoch 1/15\n",
      "5216/5216 [==============================] - 17s 3ms/sample - loss: 0.5749 - accuracy: 0.7428 - val_loss: 0.6519 - val_accuracy: 0.6250\n",
      "Epoch 2/15\n",
      "5216/5216 [==============================] - 15s 3ms/sample - loss: 0.5049 - accuracy: 0.7489 - val_loss: 0.5770 - val_accuracy: 0.6354\n",
      "Epoch 3/15\n",
      "5216/5216 [==============================] - 15s 3ms/sample - loss: 0.3849 - accuracy: 0.8221 - val_loss: 0.4632 - val_accuracy: 0.7853\n",
      "Epoch 4/15\n",
      "5216/5216 [==============================] - 15s 3ms/sample - loss: 0.3320 - accuracy: 0.8525 - val_loss: 0.4170 - val_accuracy: 0.8277\n",
      "Epoch 5/15\n",
      "5216/5216 [==============================] - 14s 3ms/sample - loss: 0.3055 - accuracy: 0.8669 - val_loss: 0.5173 - val_accuracy: 0.7660\n",
      "Epoch 6/15\n",
      "5216/5216 [==============================] - 15s 3ms/sample - loss: 0.2763 - accuracy: 0.8789 - val_loss: 0.4456 - val_accuracy: 0.8101\n",
      "Epoch 7/15\n",
      "5216/5216 [==============================] - 15s 3ms/sample - loss: 0.2543 - accuracy: 0.8932 - val_loss: 0.3202 - val_accuracy: 0.8686\n",
      "Epoch 8/15\n",
      "5216/5216 [==============================] - 15s 3ms/sample - loss: 0.2300 - accuracy: 0.9049 - val_loss: 0.3027 - val_accuracy: 0.8646\n",
      "Epoch 9/15\n",
      "5216/5216 [==============================] - 15s 3ms/sample - loss: 0.2165 - accuracy: 0.9104 - val_loss: 0.3552 - val_accuracy: 0.8526\n",
      "Epoch 10/15\n",
      "5216/5216 [==============================] - 15s 3ms/sample - loss: 0.2024 - accuracy: 0.9168 - val_loss: 0.3372 - val_accuracy: 0.8614\n",
      "Epoch 11/15\n",
      "5216/5216 [==============================] - 15s 3ms/sample - loss: 0.1896 - accuracy: 0.9256 - val_loss: 0.3499 - val_accuracy: 0.8582\n",
      "Epoch 12/15\n",
      "5216/5216 [==============================] - 15s 3ms/sample - loss: 0.1724 - accuracy: 0.9278 - val_loss: 0.4346 - val_accuracy: 0.8149\n",
      "Epoch 13/15\n",
      "5216/5216 [==============================] - 15s 3ms/sample - loss: 0.1621 - accuracy: 0.9378 - val_loss: 0.3802 - val_accuracy: 0.8462\n",
      "Epoch 14/15\n",
      "5216/5216 [==============================] - 15s 3ms/sample - loss: 0.1542 - accuracy: 0.9388 - val_loss: 0.5617 - val_accuracy: 0.7708\n",
      "Epoch 15/15\n",
      "5216/5216 [==============================] - 15s 3ms/sample - loss: 0.1492 - accuracy: 0.9421 - val_loss: 0.3433 - val_accuracy: 0.8558\n"
     ]
    }
   ],
   "source": [
    "epochs = 15\n",
    "#Steps per epoch is set to default which is number of samples / batch size\n",
    "result = model.fit(train_X, y_train, epochs = epochs, validation_data = (test_X, y_test))"
   ]
  },
  {
   "cell_type": "markdown",
   "metadata": {},
   "source": [
    "<h3> Plot train and validation loss </h3>"
   ]
  },
  {
   "cell_type": "code",
   "execution_count": 118,
   "metadata": {},
   "outputs": [
    {
     "data": {
      "image/png": "[encoded data removed]",
      "text/plain": [
       "<Figure size 720x720 with 2 Axes>"
      ]
     },
     "metadata": {
      "needs_background": "light"
     },
     "output_type": "display_data"
    }
   ],
   "source": [
    "acc = result.history['accuracy']\n",
    "val_acc = result.history['val_accuracy']\n",
    "\n",
    "loss = result.history['loss']\n",
    "val_loss = result.history['val_loss']\n",
    "\n",
    "epoch_x_range = np.arange(epochs)\n",
    "\n",
    "plt.figure(figsize = (10,10))\n",
    "plt.subplot(1,2,1)\n",
    "plt.plot(epoch_x_range, acc, label = 'Training Accuracy')\n",
    "plt.plot(epoch_x_range, val_acc, label = 'Validation Accuracy')\n",
    "plt.legend(loc = 'lower right')\n",
    "plt.title('Training and Validation Accuracy')\n",
    "\n",
    "plt.subplot(1,2,2)\n",
    "plt.plot(epoch_x_range, loss, label = 'Training Loss')\n",
    "plt.plot(epoch_x_range, val_loss, label = 'Validation Loss')\n",
    "plt.legend(loc = 'upper right')\n",
    "plt.title('Training and Validation Loss')\n",
    "plt.show()"
   ]
  },
  {
   "cell_type": "markdown",
   "metadata": {},
   "source": [
    "<h3> Save the model for later use </h3>"
   ]
  },
  {
   "cell_type": "code",
   "execution_count": 119,
   "metadata": {},
   "outputs": [
    {
     "name": "stdout",
     "output_type": "stream",
     "text": [
      "WARNING:tensorflow:From /Users/ajiglesias/miniconda3/lib/python3.6/site-packages/tensorflow_core/python/ops/resource_variable_ops.py:1781: calling BaseResourceVariable.__init__ (from tensorflow.python.ops.resource_variable_ops) with constraint is deprecated and will be removed in a future version.\n",
      "Instructions for updating:\n",
      "If using Keras pass *_constraint arguments to layers.\n",
      "INFO:tensorflow:Assets written to: pneumonia_cnn/assets\n"
     ]
    }
   ],
   "source": [
    "tf.keras.models.save_model(model, 'pneumonia_cnn', include_optimizer = True)"
   ]
  },
  {
   "cell_type": "markdown",
   "metadata": {},
   "source": [
    "<h3> Let's create a confusion matrix in order to get recall and precision </h3>"
   ]
  },
  {
   "cell_type": "code",
   "execution_count": 67,
   "metadata": {},
   "outputs": [],
   "source": [
    "#Import necessary libraries\n",
    "from sklearn.metrics import confusion_matrix\n",
    "from mlxtend.plotting import plot_confusion_matrix"
   ]
  },
  {
   "cell_type": "code",
   "execution_count": 120,
   "metadata": {},
   "outputs": [],
   "source": [
    "predict = model.predict(test_X)\n",
    "predict = np.argmax(predict, axis = 1)\n",
    "y_true = np.argmax(y_test, axis = 1)"
   ]
  },
  {
   "cell_type": "markdown",
   "metadata": {},
   "source": [
    "<h3> Make sure our model is \"predicting\" i.e. We want a matrix of 1s and 0s </h3>"
   ]
  },
  {
   "cell_type": "code",
   "execution_count": 121,
   "metadata": {},
   "outputs": [
    {
     "name": "stdout",
     "output_type": "stream",
     "text": [
      "[1 1 1 1 1 1 1 1 1 1 1 1 1 1 1 0 1 1 1 0 1 1 1 1 1 1 1 1 1 1 1 1 1 1 1 1 1\n",
      " 1 1 1 1 1 0 1 1 1 1 0 1 1 1 1 1 1 1 1 1 1 1 1 1 1 1 1 1 1 1 1 1 1 1 1 1 0\n",
      " 1 1 1 1 1 1 1 1 1 1 0 1 1 1 1 1 1 1 1 1 1 1 1 1 0 1 0 1 1 1 1 1 1 1 1 1 1\n",
      " 1 1 1 1 1 1 1 0 1 1 0 1 1 1 1 1 0 0 1 1 1 1 1 1 1 1 1 1 1 1 1 1 1 1 1 1 1\n",
      " 1 1 1 1 1 1 1 1 1 1 1 1 1 1 1 1 1 1 1 1 1 0 0 1 0 1 1 1 1 0 1 1 1 1 1 1 1\n",
      " 1 1 1 1 1 1 1 1 1 1 1 1 1 1 1 1 1 1 1 1 1 1 1 1 1 1 1 1 1 1 1 1 1 1 1 0 1\n",
      " 1 1 1 1 1 1 1 1 1 1 1 1 1 1 1 1 1 1 1 1 1 1 1 1 1 1 1 1 1 1 1 1 0 1 1 1 1\n",
      " 0 1 1 1 1 1 1 1 1 1 1 1 1 1 1 1 1 1 1 1 1 1 1 1 1 1 1 0 1 1 1 1 1 0 1 0 1\n",
      " 1 1 1 1 1 1 1 1 1 1 1 0 1 1 1 1 1 1 1 1 1 1 1 1 1 1 1 1 1 1 1 1 1 1 1 1 1\n",
      " 1 1 1 1 1 1 1 1 1 1 1 1 1 1 1 0 1 1 1 1 0 1 1 1 1 1 1 1 1 1 1 1 1 1 1 1 1\n",
      " 1 1 1 1 1 1 1 1 1 1 1 1 1 1 1 1 1 1 1 1 0 0 0 0 1 0 0 0 0 0 1 1 0 0 0 1 0\n",
      " 0 0 1 0 0 0 0 1 1 1 0 1 1 0 0 1 0 0 0 0 1 0 0 0 0 0 0 0 1 1 0 0 0 0 0 1 0\n",
      " 0 0 0 0 0 0 0 0 0 0 0 1 0 0 0 0 0 0 1 0 0 0 1 0 0 1 1 0 1 0 0 0 0 0 0 0 0\n",
      " 0 0 0 1 0 1 0 0 0 0 1 0 0 0 0 0 1 0 0 1 0 0 0 1 0 1 1 0 0 0 0 0 0 0 1 0 0\n",
      " 1 1 1 0 1 0 1 0 1 1 0 0 0 0 0 0 0 0 1 0 1 0 0 0 0 0 0 0 0 1 0 0 1 1 0 1 0\n",
      " 0 0 0 0 0 0 1 1 0 0 1 0 0 0 1 0 1 0 1 0 0 1 0 1 1 0 0 1 0 1 0 0 0 0 1 1 0\n",
      " 0 0 1 0 0 0 1 1 0 0 1 0 0 0 0 0 0 0 0 0 0 0 0 1 1 0 0 0 0 1 1 1]\n"
     ]
    }
   ],
   "source": [
    "print(predict)"
   ]
  },
  {
   "cell_type": "code",
   "execution_count": 122,
   "metadata": {},
   "outputs": [
    {
     "data": {
      "text/plain": [
       "(<Figure size 432x432 with 1 Axes>,\n",
       " <matplotlib.axes._subplots.AxesSubplot at 0x1a93e7d358>)"
      ]
     },
     "execution_count": 122,
     "metadata": {},
     "output_type": "execute_result"
    },
    {
     "data": {
      "image/png": "[encoded data removed]",
      "text/plain": [
       "<Figure size 432x432 with 1 Axes>"
      ]
     },
     "metadata": {
      "needs_background": "light"
     },
     "output_type": "display_data"
    }
   ],
   "source": [
    "c_matrix = confusion_matrix(predict, y_true)\n",
    "plot_confusion_matrix(c_matrix, figsize = (6,6))"
   ]
  },
  {
   "cell_type": "markdown",
   "metadata": {},
   "source": [
    "<h3> Precision </h3>"
   ]
  },
  {
   "cell_type": "markdown",
   "metadata": {},
   "source": [
    "number of true positives divided by the number of true positives plus the number of false positives"
   ]
  },
  {
   "cell_type": "code",
   "execution_count": 123,
   "metadata": {},
   "outputs": [
    {
     "data": {
      "text/plain": [
       "0.9358974358974359"
      ]
     },
     "execution_count": 123,
     "metadata": {},
     "output_type": "execute_result"
    }
   ],
   "source": [
    "365 / (365 + 25)"
   ]
  },
  {
   "cell_type": "markdown",
   "metadata": {},
   "source": [
    "<h3> Recall </h3>"
   ]
  },
  {
   "cell_type": "markdown",
   "metadata": {},
   "source": [
    "number of true positives divided by the number of true positives plus the number of false negatives"
   ]
  },
  {
   "cell_type": "code",
   "execution_count": 124,
   "metadata": {},
   "outputs": [
    {
     "data": {
      "text/plain": [
       "0.8488372093023255"
      ]
     },
     "execution_count": 124,
     "metadata": {},
     "output_type": "execute_result"
    }
   ],
   "source": [
    "365 / (365 + 65)"
   ]
  },
  {
   "cell_type": "markdown",
   "metadata": {},
   "source": [
    "<h3> We have a nice blend of precision (~94%) and recall (~85%) here however, being a disease classification problem we would rather have a higher recall and sacrifice precision if the cost of follow-up exam is not significant </h3>"
   ]
  }
 ],
 "metadata": {
  "kernelspec": {
   "display_name": "Python 3",
   "language": "python",
   "name": "python3"
  },
  "language_info": {
   "codemirror_mode": {
    "name": "ipython",
    "version": 3
   },
   "file_extension": ".py",
   "mimetype": "text/x-python",
   "name": "python",
   "nbconvert_exporter": "python",
   "pygments_lexer": "ipython3",
   "version": "3.6.8"
  }
 },
 "nbformat": 4,
 "nbformat_minor": 4
}
